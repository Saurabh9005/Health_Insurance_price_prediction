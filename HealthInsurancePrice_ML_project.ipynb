{
 "cells": [
  {
   "cell_type": "markdown",
   "id": "11044bb6",
   "metadata": {},
   "source": [
    "# Predicting Health Insurance Price for an individual or family"
   ]
  },
  {
   "cell_type": "markdown",
   "id": "f252efcf",
   "metadata": {},
   "source": [
    "People’s healthcare cost forecasting is now a valuable tool for improving healthcare accountability. The healthcare sector produces a very large amount of data related to patients, diseases, and diagnosis, but since it has not been analyzed properly, it does not provide the significance which it holds along with the patient healthcare cost.\n",
    "\n",
    "A health insurance policy is a policy that covers or minimises the expenses of losses caused by a variety of hazards. A variety of factors influence the cost of insurance or healthcare. For a variety of stakeholders and health departments, accurately predicting individual healthcare expenses using prediction models is critical. Accurate cost estimates can help health insurers and, increasingly, healthcare delivery organisations to plan for the future and prioritise the allocation of limited care management resources. Furthermore, knowing ahead of time what their probable expenses for the future can assist patients to choose insurance plans with appropriate deductibles and premiums. These elements play a role in the development of insurance policies.\n",
    "\n",
    "In the insurance sector, ML can help enhance the efficiency of policy wording.health insurance company can only make money if it collects more than it spends on the medical care of its beneficiaries"
   ]
  },
  {
   "cell_type": "markdown",
   "id": "62c9c5bc",
   "metadata": {},
   "source": [
    "The venerable insurance industry is no stranger to data driven decision making. Yet in today's rapidly transforming digital landscape, Insurance is struggling to adapt and benefit from new technologies compared to other industries, even within the BFSI sphere (compared to the Banking sector for example.) Extremely complex underwriting rule-sets that are radically different in different product lines, many non-KYC environments with a lack of centralized customer information base, complex relationship with consumers in traditional risk underwriting where sometimes customer centricity runs reverse to business profit, inertia of regulatory compliance - are some of the unique challenges faced by Insurance Business.\n",
    "This relatively simple dataset should be an excellent starting point for EDA, Statistical Analysis and Hypothesis testing and training Linear Regression models for predicting Insurance Premium Charges.\n",
    "\n",
    "\n",
    "Based on the data below, health care charges increase the older you get. As most of us get older, we are prone to more health issue due to the basic effects of aging. There are some unexplainable drops in charges in certain age groups however from a linear regression standpoint, there is a consistent upward increase in charges as we get older.\n",
    "\n",
    "It can help individuals and families make more informed decisions about their health insurance coverage. By understanding the likely costs of different plans, individuals can choose a plan that best fits their budget and meets their healthcare needs.\n",
    "\n",
    "It can help employers offer more competitive benefits packages to their employees. By understanding the likely costs of different plans, employers can offer plans that are both affordable and provide good coverage, which can help attract and retain employees.\n",
    "\n",
    "It can help insurers and healthcare providers better manage costs. By understanding the likely costs of different plans, insurers and healthcare providers can develop strategies to reduce costs, such as negotiating lower prices with providers or encouraging the use of preventative care.\n",
    "\n",
    "It can help policymakers make more informed decisions about healthcare reform. By understanding the likely costs of different plans, policymakers can design healthcare reform proposals that are more likely to be affordable and effective.\n",
    "\n",
    "Overall, predicting health insurance costs accurately can have a significant impact on the healthcare/insurance field by helping individuals, employers, insurers, providers, and policymakers make better decisions about health insurance coverage and healthcare reform.\n",
    "\n",
    "Emerging technologies like AI, Machine Learning, Block Chain, Cloud Computing and Big Data Analytics have brought a radical change in today's global financial landscape. As traditional business models adapt and evolve to harness the promise of these technologies, and the barriers between various 'specialized' domains across industries slowly dissolve, more and more industries are adopting a Digital Transformation Strategy. Insurance is no exception.\n",
    "\n",
    "The Insurance sector is no stranger to data driven decision making. Yet AI and Big Data are revolutionizing the industry. The following image briefly illustrates the digital transformation in Insurance today, and the role played by Analytics:"
   ]
  },
  {
   "cell_type": "markdown",
   "id": "8c21809e",
   "metadata": {},
   "source": [
    "## some basic understanding about the dataset"
   ]
  },
  {
   "cell_type": "markdown",
   "id": "aa255843",
   "metadata": {},
   "source": [
    "As we can see, we got these features:\n",
    "\n",
    "age: age of the primary beneficiary\n",
    "\n",
    "sex: insurance contractor gender, female, male\n",
    "\n",
    "bmi: Body Mass Index, providing an understanding of body weights that are relatively high or low relative to height, objective index of body weight (kg/m²) using the ratio of height to weight, ideally 18.5 to 24.9\n",
    "\n",
    "children: number of children covered by health insurance, number of dependents\n",
    "\n",
    "smoker: smoking or not\n",
    "\n",
    "region: the beneficiary’s residential area in the US, northeast, southeast, southwest, northwest.\n",
    "\n",
    "charges: individual medical costs billed by health insurance\n",
    "\n",
    "Since we are predicting insurance costs, charges will be our target feature."
   ]
  },
  {
   "cell_type": "code",
   "execution_count": 1,
   "id": "b5278127",
   "metadata": {},
   "outputs": [],
   "source": [
    "import numpy as np\n",
    "import pandas as pd\n",
    "import seaborn as sns\n",
    "from matplotlib import pyplot as plt"
   ]
  },
  {
   "cell_type": "code",
   "execution_count": 2,
   "id": "8567ccd5",
   "metadata": {},
   "outputs": [],
   "source": [
    "insurance_data=pd.read_excel(\"C:\\\\Users\\\\shaji\\\\Downloads\\\\Health_insurance_cost.xlsx\")"
   ]
  },
  {
   "cell_type": "code",
   "execution_count": 3,
   "id": "bd472708",
   "metadata": {},
   "outputs": [],
   "source": [
    "data=insurance_data.copy()"
   ]
  },
  {
   "cell_type": "code",
   "execution_count": 4,
   "id": "080f591f",
   "metadata": {},
   "outputs": [
    {
     "data": {
      "text/html": [
       "<div>\n",
       "<style scoped>\n",
       "    .dataframe tbody tr th:only-of-type {\n",
       "        vertical-align: middle;\n",
       "    }\n",
       "\n",
       "    .dataframe tbody tr th {\n",
       "        vertical-align: top;\n",
       "    }\n",
       "\n",
       "    .dataframe thead th {\n",
       "        text-align: right;\n",
       "    }\n",
       "</style>\n",
       "<table border=\"1\" class=\"dataframe\">\n",
       "  <thead>\n",
       "    <tr style=\"text-align: right;\">\n",
       "      <th></th>\n",
       "      <th>age</th>\n",
       "      <th>gender</th>\n",
       "      <th>BMI</th>\n",
       "      <th>Children</th>\n",
       "      <th>smoking_status</th>\n",
       "      <th>location</th>\n",
       "      <th>health_insurance_price</th>\n",
       "    </tr>\n",
       "  </thead>\n",
       "  <tbody>\n",
       "    <tr>\n",
       "      <th>0</th>\n",
       "      <td>19.0</td>\n",
       "      <td>female</td>\n",
       "      <td>NaN</td>\n",
       "      <td>0.0</td>\n",
       "      <td>yes</td>\n",
       "      <td>southwest</td>\n",
       "      <td>16884.92400</td>\n",
       "    </tr>\n",
       "    <tr>\n",
       "      <th>1</th>\n",
       "      <td>18.0</td>\n",
       "      <td>male</td>\n",
       "      <td>33.770</td>\n",
       "      <td>1.0</td>\n",
       "      <td>no</td>\n",
       "      <td>southeast</td>\n",
       "      <td>1725.55230</td>\n",
       "    </tr>\n",
       "    <tr>\n",
       "      <th>2</th>\n",
       "      <td>28.0</td>\n",
       "      <td>male</td>\n",
       "      <td>33.000</td>\n",
       "      <td>3.0</td>\n",
       "      <td>no</td>\n",
       "      <td>southeast</td>\n",
       "      <td>4449.46200</td>\n",
       "    </tr>\n",
       "    <tr>\n",
       "      <th>3</th>\n",
       "      <td>33.0</td>\n",
       "      <td>male</td>\n",
       "      <td>22.705</td>\n",
       "      <td>0.0</td>\n",
       "      <td>no</td>\n",
       "      <td>northwest</td>\n",
       "      <td>21984.47061</td>\n",
       "    </tr>\n",
       "    <tr>\n",
       "      <th>4</th>\n",
       "      <td>32.0</td>\n",
       "      <td>male</td>\n",
       "      <td>28.880</td>\n",
       "      <td>0.0</td>\n",
       "      <td>no</td>\n",
       "      <td>northwest</td>\n",
       "      <td>3866.85520</td>\n",
       "    </tr>\n",
       "  </tbody>\n",
       "</table>\n",
       "</div>"
      ],
      "text/plain": [
       "    age  gender     BMI  Children smoking_status   location  \\\n",
       "0  19.0  female     NaN       0.0            yes  southwest   \n",
       "1  18.0    male  33.770       1.0             no  southeast   \n",
       "2  28.0    male  33.000       3.0             no  southeast   \n",
       "3  33.0    male  22.705       0.0             no  northwest   \n",
       "4  32.0    male  28.880       0.0             no  northwest   \n",
       "\n",
       "   health_insurance_price  \n",
       "0             16884.92400  \n",
       "1              1725.55230  \n",
       "2              4449.46200  \n",
       "3             21984.47061  \n",
       "4              3866.85520  "
      ]
     },
     "execution_count": 4,
     "metadata": {},
     "output_type": "execute_result"
    }
   ],
   "source": [
    "data.head()"
   ]
  },
  {
   "cell_type": "code",
   "execution_count": 5,
   "id": "1c20c103",
   "metadata": {
    "scrolled": true
   },
   "outputs": [
    {
     "name": "stdout",
     "output_type": "stream",
     "text": [
      "<class 'pandas.core.frame.DataFrame'>\n",
      "RangeIndex: 1338 entries, 0 to 1337\n",
      "Data columns (total 7 columns):\n",
      " #   Column                  Non-Null Count  Dtype  \n",
      "---  ------                  --------------  -----  \n",
      " 0   age                     1310 non-null   float64\n",
      " 1   gender                  1338 non-null   object \n",
      " 2   BMI                     1315 non-null   float64\n",
      " 3   Children                1338 non-null   float64\n",
      " 4   smoking_status          1338 non-null   object \n",
      " 5   location                1338 non-null   object \n",
      " 6   health_insurance_price  1336 non-null   float64\n",
      "dtypes: float64(4), object(3)\n",
      "memory usage: 73.3+ KB\n"
     ]
    }
   ],
   "source": [
    "data.info()"
   ]
  },
  {
   "cell_type": "code",
   "execution_count": null,
   "id": "a2d7d18b",
   "metadata": {},
   "outputs": [],
   "source": []
  },
  {
   "cell_type": "markdown",
   "id": "8f706070",
   "metadata": {},
   "source": [
    "# categorical features \n",
    "* gender\n",
    "* smoking_status          \n",
    "* location \n"
   ]
  },
  {
   "cell_type": "code",
   "execution_count": 6,
   "id": "f587ea86",
   "metadata": {},
   "outputs": [
    {
     "data": {
      "text/plain": [
       "(1338, 7)"
      ]
     },
     "execution_count": 6,
     "metadata": {},
     "output_type": "execute_result"
    }
   ],
   "source": [
    "insurance_data.shape"
   ]
  },
  {
   "cell_type": "code",
   "execution_count": 7,
   "id": "464ea1e7",
   "metadata": {},
   "outputs": [],
   "source": [
    "data.drop_duplicates(inplace = True)"
   ]
  },
  {
   "cell_type": "code",
   "execution_count": 8,
   "id": "c9be9d97",
   "metadata": {},
   "outputs": [
    {
     "data": {
      "text/plain": [
       "(1337, 7)"
      ]
     },
     "execution_count": 8,
     "metadata": {},
     "output_type": "execute_result"
    }
   ],
   "source": [
    "data.shape # from here we can observe that there is one duplicate in our data set and we are droping it "
   ]
  },
  {
   "cell_type": "code",
   "execution_count": 9,
   "id": "126b1d90",
   "metadata": {},
   "outputs": [
    {
     "data": {
      "text/html": [
       "<div>\n",
       "<style scoped>\n",
       "    .dataframe tbody tr th:only-of-type {\n",
       "        vertical-align: middle;\n",
       "    }\n",
       "\n",
       "    .dataframe tbody tr th {\n",
       "        vertical-align: top;\n",
       "    }\n",
       "\n",
       "    .dataframe thead th {\n",
       "        text-align: right;\n",
       "    }\n",
       "</style>\n",
       "<table border=\"1\" class=\"dataframe\">\n",
       "  <thead>\n",
       "    <tr style=\"text-align: right;\">\n",
       "      <th></th>\n",
       "      <th>age</th>\n",
       "      <th>BMI</th>\n",
       "      <th>Children</th>\n",
       "      <th>health_insurance_price</th>\n",
       "    </tr>\n",
       "  </thead>\n",
       "  <tbody>\n",
       "    <tr>\n",
       "      <th>count</th>\n",
       "      <td>1309.000000</td>\n",
       "      <td>1314.000000</td>\n",
       "      <td>1337.000000</td>\n",
       "      <td>1335.000000</td>\n",
       "    </tr>\n",
       "    <tr>\n",
       "      <th>mean</th>\n",
       "      <td>39.181818</td>\n",
       "      <td>30.638253</td>\n",
       "      <td>1.095737</td>\n",
       "      <td>13277.238554</td>\n",
       "    </tr>\n",
       "    <tr>\n",
       "      <th>std</th>\n",
       "      <td>14.049681</td>\n",
       "      <td>6.112628</td>\n",
       "      <td>1.205571</td>\n",
       "      <td>12113.150034</td>\n",
       "    </tr>\n",
       "    <tr>\n",
       "      <th>min</th>\n",
       "      <td>18.000000</td>\n",
       "      <td>15.960000</td>\n",
       "      <td>0.000000</td>\n",
       "      <td>1121.873900</td>\n",
       "    </tr>\n",
       "    <tr>\n",
       "      <th>25%</th>\n",
       "      <td>26.000000</td>\n",
       "      <td>26.205000</td>\n",
       "      <td>0.000000</td>\n",
       "      <td>4746.698450</td>\n",
       "    </tr>\n",
       "    <tr>\n",
       "      <th>50%</th>\n",
       "      <td>39.000000</td>\n",
       "      <td>30.305000</td>\n",
       "      <td>1.000000</td>\n",
       "      <td>9386.161300</td>\n",
       "    </tr>\n",
       "    <tr>\n",
       "      <th>75%</th>\n",
       "      <td>51.000000</td>\n",
       "      <td>34.580000</td>\n",
       "      <td>2.000000</td>\n",
       "      <td>16622.107580</td>\n",
       "    </tr>\n",
       "    <tr>\n",
       "      <th>max</th>\n",
       "      <td>64.000000</td>\n",
       "      <td>53.130000</td>\n",
       "      <td>5.000000</td>\n",
       "      <td>63770.428010</td>\n",
       "    </tr>\n",
       "  </tbody>\n",
       "</table>\n",
       "</div>"
      ],
      "text/plain": [
       "               age          BMI     Children  health_insurance_price\n",
       "count  1309.000000  1314.000000  1337.000000             1335.000000\n",
       "mean     39.181818    30.638253     1.095737            13277.238554\n",
       "std      14.049681     6.112628     1.205571            12113.150034\n",
       "min      18.000000    15.960000     0.000000             1121.873900\n",
       "25%      26.000000    26.205000     0.000000             4746.698450\n",
       "50%      39.000000    30.305000     1.000000             9386.161300\n",
       "75%      51.000000    34.580000     2.000000            16622.107580\n",
       "max      64.000000    53.130000     5.000000            63770.428010"
      ]
     },
     "execution_count": 9,
     "metadata": {},
     "output_type": "execute_result"
    }
   ],
   "source": [
    "data.describe()"
   ]
  },
  {
   "cell_type": "code",
   "execution_count": 10,
   "id": "df1dc1b3",
   "metadata": {},
   "outputs": [
    {
     "data": {
      "text/plain": [
       "age                       28\n",
       "gender                     0\n",
       "BMI                       23\n",
       "Children                   0\n",
       "smoking_status             0\n",
       "location                   0\n",
       "health_insurance_price     2\n",
       "dtype: int64"
      ]
     },
     "execution_count": 10,
     "metadata": {},
     "output_type": "execute_result"
    }
   ],
   "source": [
    "data.isnull().sum()"
   ]
  },
  {
   "cell_type": "code",
   "execution_count": 11,
   "id": "5de40e13",
   "metadata": {
    "scrolled": true
   },
   "outputs": [
    {
     "data": {
      "text/plain": [
       "age                       2.094241\n",
       "gender                    0.000000\n",
       "BMI                       1.720269\n",
       "Children                  0.000000\n",
       "smoking_status            0.000000\n",
       "location                  0.000000\n",
       "health_insurance_price    0.149589\n",
       "dtype: float64"
      ]
     },
     "execution_count": 11,
     "metadata": {},
     "output_type": "execute_result"
    }
   ],
   "source": [
    "data.isnull().mean() * 100 # percentage of missing values"
   ]
  },
  {
   "cell_type": "markdown",
   "id": "f57185b5",
   "metadata": {},
   "source": [
    "\n",
    "\n"
   ]
  },
  {
   "cell_type": "code",
   "execution_count": null,
   "id": "ba6aca4b",
   "metadata": {},
   "outputs": [],
   "source": []
  },
  {
   "cell_type": "code",
   "execution_count": null,
   "id": "dd27e9c8",
   "metadata": {},
   "outputs": [],
   "source": []
  },
  {
   "cell_type": "code",
   "execution_count": null,
   "id": "8e9146c8",
   "metadata": {},
   "outputs": [],
   "source": []
  },
  {
   "cell_type": "code",
   "execution_count": 12,
   "id": "df6162c0",
   "metadata": {},
   "outputs": [
    {
     "data": {
      "text/plain": [
       "age                       0.056463\n",
       "BMI                       0.299109\n",
       "Children                  0.937421\n",
       "health_insurance_price    1.516765\n",
       "dtype: float64"
      ]
     },
     "execution_count": 12,
     "metadata": {},
     "output_type": "execute_result"
    }
   ],
   "source": [
    "data.skew(numeric_only=True)"
   ]
  },
  {
   "cell_type": "code",
   "execution_count": 13,
   "id": "dc789af1",
   "metadata": {},
   "outputs": [],
   "source": [
    "mean=data[\"age\"].mean()  "
   ]
  },
  {
   "cell_type": "code",
   "execution_count": 14,
   "id": "12840022",
   "metadata": {},
   "outputs": [],
   "source": [
    "data[\"age\"].fillna(mean, inplace=True) # as there is less skewness in age, filling it with mean"
   ]
  },
  {
   "cell_type": "code",
   "execution_count": 15,
   "id": "402c943f",
   "metadata": {},
   "outputs": [],
   "source": [
    "mean=data[\"BMI\"].mean() # as there "
   ]
  },
  {
   "cell_type": "code",
   "execution_count": 16,
   "id": "84d17582",
   "metadata": {},
   "outputs": [],
   "source": [
    "data[\"BMI\"].fillna(mean, inplace=True) # as there is less skewness in bmi , filling it with mean"
   ]
  },
  {
   "cell_type": "code",
   "execution_count": 17,
   "id": "5ad34605",
   "metadata": {},
   "outputs": [
    {
     "data": {
      "text/plain": [
       "age                       0\n",
       "gender                    0\n",
       "BMI                       0\n",
       "Children                  0\n",
       "smoking_status            0\n",
       "location                  0\n",
       "health_insurance_price    2\n",
       "dtype: int64"
      ]
     },
     "execution_count": 17,
     "metadata": {},
     "output_type": "execute_result"
    }
   ],
   "source": [
    "data.isnull().sum()"
   ]
  },
  {
   "cell_type": "code",
   "execution_count": 18,
   "id": "c794ae9f",
   "metadata": {},
   "outputs": [],
   "source": [
    "data_after_imputation=data.copy()"
   ]
  },
  {
   "cell_type": "code",
   "execution_count": 19,
   "id": "0054bd77",
   "metadata": {},
   "outputs": [],
   "source": [
    "data=data.dropna()"
   ]
  },
  {
   "cell_type": "code",
   "execution_count": 20,
   "id": "3aeee35d",
   "metadata": {},
   "outputs": [
    {
     "data": {
      "text/plain": [
       "(1335, 7)"
      ]
     },
     "execution_count": 20,
     "metadata": {},
     "output_type": "execute_result"
    }
   ],
   "source": [
    "data.shape"
   ]
  },
  {
   "cell_type": "code",
   "execution_count": 21,
   "id": "d9c2ca6d",
   "metadata": {},
   "outputs": [],
   "source": [
    "final_data=data.copy()"
   ]
  },
  {
   "cell_type": "code",
   "execution_count": 22,
   "id": "43e93540",
   "metadata": {},
   "outputs": [
    {
     "data": {
      "text/plain": [
       "<AxesSubplot:xlabel='BMI'>"
      ]
     },
     "execution_count": 22,
     "metadata": {},
     "output_type": "execute_result"
    },
    {
     "data": {
      "image/png": "[encoded data removed]",
      "text/plain": [
       "<Figure size 432x288 with 1 Axes>"
      ]
     },
     "metadata": {
      "needs_background": "light"
     },
     "output_type": "display_data"
    }
   ],
   "source": [
    "sns.boxplot(x=data['BMI'])"
   ]
  },
  {
   "cell_type": "code",
   "execution_count": 24,
   "id": "094fdea4",
   "metadata": {},
   "outputs": [
    {
     "data": {
      "text/plain": [
       "Series([], Name: BMI, dtype: float64)"
      ]
     },
     "execution_count": 24,
     "metadata": {},
     "output_type": "execute_result"
    }
   ],
   "source": [
    "q1,q3=np.percentile(data['BMI'],[25,75]) # there are no extreme outliers so no need to worry\n",
    "\n",
    "iqr = q3 - q1\n",
    "lower = q1 - 3 *iqr\n",
    "higher = q3 + 3 *iqr\n",
    "\n",
    "outliers=data['BMI'][data['BMI']>higher] \n",
    "outliers"
   ]
  },
  {
   "cell_type": "code",
   "execution_count": 25,
   "id": "6cfb534c",
   "metadata": {},
   "outputs": [
    {
     "data": {
      "text/plain": [
       "Series([], Name: BMI, dtype: float64)"
      ]
     },
     "execution_count": 25,
     "metadata": {},
     "output_type": "execute_result"
    }
   ],
   "source": [
    "outliers.sort_values()"
   ]
  },
  {
   "cell_type": "code",
   "execution_count": 25,
   "id": "bce1f4ed",
   "metadata": {
    "scrolled": true
   },
   "outputs": [
    {
     "data": {
      "text/plain": [
       "<AxesSubplot:xlabel='age'>"
      ]
     },
     "execution_count": 25,
     "metadata": {},
     "output_type": "execute_result"
    },
    {
     "data": {
      "image/png": "[encoded data removed]",
      "text/plain": [
       "<Figure size 432x288 with 1 Axes>"
      ]
     },
     "metadata": {
      "needs_background": "light"
     },
     "output_type": "display_data"
    }
   ],
   "source": [
    "sns.boxplot(x=data['age']) # we can see there are no outliers in age colunm"
   ]
  },
  {
   "cell_type": "code",
   "execution_count": null,
   "id": "0efae02b",
   "metadata": {},
   "outputs": [],
   "source": []
  },
  {
   "cell_type": "code",
   "execution_count": 26,
   "id": "14e7d2bf",
   "metadata": {},
   "outputs": [
    {
     "name": "stdout",
     "output_type": "stream",
     "text": [
      "<class 'pandas.core.frame.DataFrame'>\n",
      "Int64Index: 1335 entries, 0 to 1337\n",
      "Data columns (total 7 columns):\n",
      " #   Column                  Non-Null Count  Dtype  \n",
      "---  ------                  --------------  -----  \n",
      " 0   age                     1335 non-null   float64\n",
      " 1   gender                  1335 non-null   object \n",
      " 2   BMI                     1335 non-null   float64\n",
      " 3   Children                1335 non-null   float64\n",
      " 4   smoking_status          1335 non-null   object \n",
      " 5   location                1335 non-null   object \n",
      " 6   health_insurance_price  1335 non-null   float64\n",
      "dtypes: float64(4), object(3)\n",
      "memory usage: 83.4+ KB\n"
     ]
    }
   ],
   "source": [
    "data.info()"
   ]
  },
  {
   "cell_type": "code",
   "execution_count": 27,
   "id": "163e95d7",
   "metadata": {},
   "outputs": [
    {
     "data": {
      "text/plain": [
       "age                        float64\n",
       "gender                    category\n",
       "BMI                        float64\n",
       "Children                   float64\n",
       "smoking_status            category\n",
       "location                  category\n",
       "health_insurance_price     float64\n",
       "dtype: object"
      ]
     },
     "execution_count": 27,
     "metadata": {},
     "output_type": "execute_result"
    }
   ],
   "source": [
    "##Converting objects labels into categorical\n",
    "data[['gender', 'smoking_status', 'location']] = data[['gender', 'smoking_status', 'location']].astype('category')\n",
    "data.dtypes"
   ]
  },
  {
   "cell_type": "code",
   "execution_count": 29,
   "id": "4d5e4159",
   "metadata": {},
   "outputs": [
    {
     "data": {
      "text/plain": [
       "<AxesSubplot:>"
      ]
     },
     "execution_count": 29,
     "metadata": {},
     "output_type": "execute_result"
    },
    {
     "data": {
      "image/png": "[encoded data removed]",
      "text/plain": [
       "<Figure size 720x576 with 2 Axes>"
      ]
     },
     "metadata": {
      "needs_background": "light"
     },
     "output_type": "display_data"
    }
   ],
   "source": [
    "plt.figure(figsize=(10,8))\n",
    "condition=data.corr(method = 'pearson')\n",
    "\n",
    "#plot heat map\n",
    "sns.heatmap(condition,annot=True)\n"
   ]
  },
  {
   "cell_type": "code",
   "execution_count": 39,
   "id": "81b0ec28",
   "metadata": {},
   "outputs": [
    {
     "name": "stderr",
     "output_type": "stream",
     "text": [
      "C:\\ProgramData\\Anaconda3\\lib\\site-packages\\seaborn\\distributions.py:2619: FutureWarning: `distplot` is a deprecated function and will be removed in a future version. Please adapt your code to use either `displot` (a figure-level function with similar flexibility) or `histplot` (an axes-level function for histograms).\n",
      "  warnings.warn(msg, FutureWarning)\n"
     ]
    },
    {
     "data": {
      "image/png": "[encoded data removed]",
      "text/plain": [
       "<Figure size 720x360 with 1 Axes>"
      ]
     },
     "metadata": {
      "needs_background": "light"
     },
     "output_type": "display_data"
    }
   ],
   "source": [
    "plt.figure(figsize=(10,5))\n",
    "sns.distplot(data['health_insurance_price'],bins=10,color='darkblue')\n",
    "plt.show()"
   ]
  },
  {
   "cell_type": "markdown",
   "id": "5aae7fa6",
   "metadata": {},
   "source": [
    "Distribution of expenses is right skewed."
   ]
  },
  {
   "cell_type": "code",
   "execution_count": null,
   "id": "a6443cfe",
   "metadata": {},
   "outputs": [],
   "source": []
  },
  {
   "cell_type": "code",
   "execution_count": 45,
   "id": "d00def91",
   "metadata": {
    "scrolled": true
   },
   "outputs": [
    {
     "name": "stderr",
     "output_type": "stream",
     "text": [
      "C:\\ProgramData\\Anaconda3\\lib\\site-packages\\seaborn\\distributions.py:2619: FutureWarning: `distplot` is a deprecated function and will be removed in a future version. Please adapt your code to use either `displot` (a figure-level function with similar flexibility) or `histplot` (an axes-level function for histograms).\n",
      "  warnings.warn(msg, FutureWarning)\n",
      "C:\\ProgramData\\Anaconda3\\lib\\site-packages\\seaborn\\distributions.py:2619: FutureWarning: `distplot` is a deprecated function and will be removed in a future version. Please adapt your code to use either `displot` (a figure-level function with similar flexibility) or `histplot` (an axes-level function for histograms).\n",
      "  warnings.warn(msg, FutureWarning)\n"
     ]
    },
    {
     "data": {
      "image/png": "[encoded data removed]",
      "text/plain": [
       "<Figure size 576x288 with 3 Axes>"
      ]
     },
     "metadata": {
      "needs_background": "light"
     },
     "output_type": "display_data"
    },
    {
     "data": {
      "text/plain": [
       "<Figure size 432x288 with 0 Axes>"
      ]
     },
     "metadata": {},
     "output_type": "display_data"
    },
    {
     "data": {
      "image/png": "[encoded data removed]",
      "text/plain": [
       "<Figure size 576x288 with 3 Axes>"
      ]
     },
     "metadata": {
      "needs_background": "light"
     },
     "output_type": "display_data"
    }
   ],
   "source": [
    "plt.figure(figsize=(8,4))\n",
    "plt.figure(1)\n",
    "plt.subplot(131)\n",
    "sns.distplot(x=data['age'],kde=True)\n",
    "plt.subplot(132)\n",
    "sns.countplot(x=data['gender'])\n",
    "plt.subplot(133)\n",
    "sns.distplot(x=data['BMI'],kde=True)\n",
    "plt.figure(2)\n",
    "plt.figure(figsize=(8,4))\n",
    "plt.subplot(231)\n",
    "sns.histplot(x=data['Children'])\n",
    "plt.subplot(232)\n",
    "sns.countplot(x=data['smoking_status'])\n",
    "plt.subplot(233)\n",
    "sns.countplot(x=data['location'])\n",
    "plt.show()"
   ]
  },
  {
   "cell_type": "markdown",
   "id": "c34bf4c3",
   "metadata": {},
   "source": [
    "# multi variate analysis"
   ]
  },
  {
   "cell_type": "code",
   "execution_count": 41,
   "id": "99971366",
   "metadata": {},
   "outputs": [
    {
     "data": {
      "image/png": "[encoded data removed]",
      "text/plain": [
       "<Figure size 720x288 with 1 Axes>"
      ]
     },
     "metadata": {
      "needs_background": "light"
     },
     "output_type": "display_data"
    }
   ],
   "source": [
    "plt.figure(figsize=(10,4))\n",
    "sns.scatterplot(y=data['age'],x=data['health_insurance_price'])\n",
    "plt.grid(True)\n",
    "plt.show()"
   ]
  },
  {
   "cell_type": "markdown",
   "id": "9d4a3167",
   "metadata": {},
   "source": [
    "By this we can observe that younger applicats are having lower health insurance price as compared to the older applicants"
   ]
  },
  {
   "cell_type": "code",
   "execution_count": 44,
   "id": "52702956",
   "metadata": {},
   "outputs": [
    {
     "data": {
      "image/png": "[encoded data removed]",
      "text/plain": [
       "<Figure size 432x288 with 1 Axes>"
      ]
     },
     "metadata": {
      "needs_background": "light"
     },
     "output_type": "display_data"
    }
   ],
   "source": [
    "sns.barplot(x='gender',y='health_insurance_price',data=data,saturation=0.9)\n",
    "plt.show()"
   ]
  },
  {
   "cell_type": "markdown",
   "id": "f6da1de3",
   "metadata": {},
   "source": [
    "Male applicant have a bit higher expense as compared to female."
   ]
  },
  {
   "cell_type": "code",
   "execution_count": 48,
   "id": "cbc87406",
   "metadata": {},
   "outputs": [
    {
     "data": {
      "image/png": "[encoded data removed]",
      "text/plain": [
       "<Figure size 720x288 with 1 Axes>"
      ]
     },
     "metadata": {
      "needs_background": "light"
     },
     "output_type": "display_data"
    }
   ],
   "source": [
    "plt.figure(figsize=(10,4))\n",
    "sns.regplot(x=data['BMI'],y=data['health_insurance_price'])\n",
    "plt.grid(True)\n",
    "plt.show()"
   ]
  },
  {
   "cell_type": "markdown",
   "id": "2bb2cd20",
   "metadata": {},
   "source": [
    "There is a slight positive relation between BMI and expense"
   ]
  },
  {
   "cell_type": "code",
   "execution_count": 49,
   "id": "85787251",
   "metadata": {},
   "outputs": [
    {
     "data": {
      "image/png": "[encoded data removed]",
      "text/plain": [
       "<Figure size 720x288 with 1 Axes>"
      ]
     },
     "metadata": {
      "needs_background": "light"
     },
     "output_type": "display_data"
    }
   ],
   "source": [
    "plt.figure(figsize=(10,4)\n",
    "sns.scatterplot(y=data['BMI'],x=data['health_insurance_price'])\n",
    "plt.grid(True)\n",
    "plt.show()"
   ]
  },
  {
   "cell_type": "code",
   "execution_count": 52,
   "id": "5226d162",
   "metadata": {},
   "outputs": [
    {
     "data": {
      "image/png": "[encoded data removed]",
      "text/plain": [
       "<Figure size 432x288 with 1 Axes>"
      ]
     },
     "metadata": {
      "needs_background": "light"
     },
     "output_type": "display_data"
    }
   ],
   "source": [
    "sns.barplot(x='Children',y='health_insurance_price',data=data)\n",
    "plt.show()"
   ]
  },
  {
   "cell_type": "markdown",
   "id": "2f9cdf4f",
   "metadata": {},
   "source": [
    "Applicant with 2 or 3 children have higher expenses"
   ]
  },
  {
   "cell_type": "code",
   "execution_count": 53,
   "id": "b3b44739",
   "metadata": {},
   "outputs": [
    {
     "data": {
      "image/png": "[encoded data removed]",
      "text/plain": [
       "<Figure size 432x288 with 1 Axes>"
      ]
     },
     "metadata": {
      "needs_background": "light"
     },
     "output_type": "display_data"
    }
   ],
   "source": [
    "sns.barplot(x='smoking_status',y='health_insurance_price',data=data)\n",
    "plt.show()"
   ]
  },
  {
   "cell_type": "markdown",
   "id": "dad26884",
   "metadata": {},
   "source": [
    "Smokers have insurance of high expense"
   ]
  },
  {
   "cell_type": "code",
   "execution_count": 54,
   "id": "0a89c427",
   "metadata": {},
   "outputs": [
    {
     "data": {
      "image/png": "[encoded data removed]",
      "text/plain": [
       "<Figure size 432x288 with 1 Axes>"
      ]
     },
     "metadata": {
      "needs_background": "light"
     },
     "output_type": "display_data"
    }
   ],
   "source": [
    "sns.barplot(x='location',y='health_insurance_price',data=data)\n",
    "plt.show()"
   ]
  },
  {
   "cell_type": "code",
   "execution_count": null,
   "id": "15251170",
   "metadata": {},
   "outputs": [],
   "source": [
    "Applicant from southeast have higher expenses."
   ]
  },
  {
   "cell_type": "code",
   "execution_count": 55,
   "id": "f94c7e06",
   "metadata": {},
   "outputs": [
    {
     "data": {
      "text/plain": [
       "(1335, 7)"
      ]
     },
     "execution_count": 55,
     "metadata": {},
     "output_type": "execute_result"
    }
   ],
   "source": [
    "data.shape"
   ]
  },
  {
   "cell_type": "code",
   "execution_count": 61,
   "id": "e29b4f03",
   "metadata": {},
   "outputs": [],
   "source": [
    "data_before_encoding=data.copy()"
   ]
  },
  {
   "cell_type": "code",
   "execution_count": 62,
   "id": "eadf2dd6",
   "metadata": {},
   "outputs": [],
   "source": [
    "data=pd.get_dummies(data=data,drop_first=True)"
   ]
  },
  {
   "cell_type": "code",
   "execution_count": 63,
   "id": "0d27cd71",
   "metadata": {},
   "outputs": [
    {
     "data": {
      "text/html": [
       "<div>\n",
       "<style scoped>\n",
       "    .dataframe tbody tr th:only-of-type {\n",
       "        vertical-align: middle;\n",
       "    }\n",
       "\n",
       "    .dataframe tbody tr th {\n",
       "        vertical-align: top;\n",
       "    }\n",
       "\n",
       "    .dataframe thead th {\n",
       "        text-align: right;\n",
       "    }\n",
       "</style>\n",
       "<table border=\"1\" class=\"dataframe\">\n",
       "  <thead>\n",
       "    <tr style=\"text-align: right;\">\n",
       "      <th></th>\n",
       "      <th>age</th>\n",
       "      <th>BMI</th>\n",
       "      <th>Children</th>\n",
       "      <th>health_insurance_price</th>\n",
       "      <th>gender_male</th>\n",
       "      <th>smoking_status_yes</th>\n",
       "      <th>location_northwest</th>\n",
       "      <th>location_southeast</th>\n",
       "      <th>location_southwest</th>\n",
       "    </tr>\n",
       "  </thead>\n",
       "  <tbody>\n",
       "    <tr>\n",
       "      <th>0</th>\n",
       "      <td>19.0</td>\n",
       "      <td>30.638253</td>\n",
       "      <td>0.0</td>\n",
       "      <td>16884.92400</td>\n",
       "      <td>0</td>\n",
       "      <td>1</td>\n",
       "      <td>0</td>\n",
       "      <td>0</td>\n",
       "      <td>1</td>\n",
       "    </tr>\n",
       "    <tr>\n",
       "      <th>1</th>\n",
       "      <td>18.0</td>\n",
       "      <td>33.770000</td>\n",
       "      <td>1.0</td>\n",
       "      <td>1725.55230</td>\n",
       "      <td>1</td>\n",
       "      <td>0</td>\n",
       "      <td>0</td>\n",
       "      <td>1</td>\n",
       "      <td>0</td>\n",
       "    </tr>\n",
       "    <tr>\n",
       "      <th>2</th>\n",
       "      <td>28.0</td>\n",
       "      <td>33.000000</td>\n",
       "      <td>3.0</td>\n",
       "      <td>4449.46200</td>\n",
       "      <td>1</td>\n",
       "      <td>0</td>\n",
       "      <td>0</td>\n",
       "      <td>1</td>\n",
       "      <td>0</td>\n",
       "    </tr>\n",
       "    <tr>\n",
       "      <th>3</th>\n",
       "      <td>33.0</td>\n",
       "      <td>22.705000</td>\n",
       "      <td>0.0</td>\n",
       "      <td>21984.47061</td>\n",
       "      <td>1</td>\n",
       "      <td>0</td>\n",
       "      <td>1</td>\n",
       "      <td>0</td>\n",
       "      <td>0</td>\n",
       "    </tr>\n",
       "    <tr>\n",
       "      <th>4</th>\n",
       "      <td>32.0</td>\n",
       "      <td>28.880000</td>\n",
       "      <td>0.0</td>\n",
       "      <td>3866.85520</td>\n",
       "      <td>1</td>\n",
       "      <td>0</td>\n",
       "      <td>1</td>\n",
       "      <td>0</td>\n",
       "      <td>0</td>\n",
       "    </tr>\n",
       "  </tbody>\n",
       "</table>\n",
       "</div>"
      ],
      "text/plain": [
       "    age        BMI  Children  health_insurance_price  gender_male  \\\n",
       "0  19.0  30.638253       0.0             16884.92400            0   \n",
       "1  18.0  33.770000       1.0              1725.55230            1   \n",
       "2  28.0  33.000000       3.0              4449.46200            1   \n",
       "3  33.0  22.705000       0.0             21984.47061            1   \n",
       "4  32.0  28.880000       0.0              3866.85520            1   \n",
       "\n",
       "   smoking_status_yes  location_northwest  location_southeast  \\\n",
       "0                   1                   0                   0   \n",
       "1                   0                   0                   1   \n",
       "2                   0                   0                   1   \n",
       "3                   0                   1                   0   \n",
       "4                   0                   1                   0   \n",
       "\n",
       "   location_southwest  \n",
       "0                   1  \n",
       "1                   0  \n",
       "2                   0  \n",
       "3                   0  \n",
       "4                   0  "
      ]
     },
     "execution_count": 63,
     "metadata": {},
     "output_type": "execute_result"
    }
   ],
   "source": [
    "data.head()"
   ]
  },
  {
   "cell_type": "code",
   "execution_count": 64,
   "id": "e5ad524f",
   "metadata": {},
   "outputs": [
    {
     "data": {
      "text/plain": [
       "(1335, 9)"
      ]
     },
     "execution_count": 64,
     "metadata": {},
     "output_type": "execute_result"
    }
   ],
   "source": [
    "data.shape"
   ]
  },
  {
   "cell_type": "markdown",
   "id": "bee632d8",
   "metadata": {},
   "source": [
    "# Test train split\n"
   ]
  },
  {
   "cell_type": "code",
   "execution_count": 66,
   "id": "5a5c4840",
   "metadata": {},
   "outputs": [],
   "source": [
    "X=data.drop('health_insurance_price',axis=1)\n",
    "y=data.health_insurance_price"
   ]
  },
  {
   "cell_type": "code",
   "execution_count": 67,
   "id": "19527104",
   "metadata": {},
   "outputs": [],
   "source": [
    "from sklearn.model_selection import train_test_split\n",
    "X_train, X_test, y_train, y_test = train_test_split(X, y, test_size=0.2,random_state=2)"
   ]
  },
  {
   "cell_type": "markdown",
   "id": "9966424c",
   "metadata": {},
   "source": [
    "# linear regression"
   ]
  },
  {
   "cell_type": "code",
   "execution_count": 70,
   "id": "a211ec0c",
   "metadata": {},
   "outputs": [],
   "source": [
    "from sklearn.metrics import mean_absolute_error\n",
    "from sklearn.metrics import mean_squared_error\n",
    "from sklearn.metrics import r2_score\n",
    "from sklearn.linear_model import LinearRegression"
   ]
  },
  {
   "cell_type": "code",
   "execution_count": 74,
   "id": "f989610a",
   "metadata": {},
   "outputs": [
    {
     "data": {
      "text/plain": [
       "LinearRegression()"
      ]
     },
     "execution_count": 74,
     "metadata": {},
     "output_type": "execute_result"
    }
   ],
   "source": [
    "lm = LinearRegression()\n",
    "lm.fit(X_train,y_train)"
   ]
  },
  {
   "cell_type": "code",
   "execution_count": 75,
   "id": "1552b62c",
   "metadata": {},
   "outputs": [],
   "source": [
    "y_pred = lm.predict(X_train)"
   ]
  },
  {
   "cell_type": "code",
   "execution_count": 76,
   "id": "e7555abb",
   "metadata": {},
   "outputs": [
    {
     "name": "stdout",
     "output_type": "stream",
     "text": [
      "0.7493402426892692\n"
     ]
    }
   ],
   "source": [
    "r2 = r2_score(y_true=y_train,y_pred=y_pred)\n",
    "print(r2)"
   ]
  },
  {
   "cell_type": "markdown",
   "id": "67bd3acb",
   "metadata": {},
   "source": [
    "# DecisionTreeRegressor"
   ]
  },
  {
   "cell_type": "code",
   "execution_count": 77,
   "id": "d640e3bd",
   "metadata": {},
   "outputs": [],
   "source": [
    "from sklearn.tree import DecisionTreeRegressor\n",
    "\n",
    "model_dt= DecisionTreeRegressor(random_state=2)\n",
    "model_dt.fit(X_train,y_train)\n",
    "pred_dt=model_dt.predict(X_test)"
   ]
  },
  {
   "cell_type": "code",
   "execution_count": 82,
   "id": "a8982613",
   "metadata": {},
   "outputs": [],
   "source": [
    "scores=[]\n",
    "from sklearn.metrics import r2_score,mean_squared_error, mean_absolute_error"
   ]
  },
  {
   "cell_type": "code",
   "execution_count": 83,
   "id": "1f32d315",
   "metadata": {
    "scrolled": true
   },
   "outputs": [
    {
     "name": "stdout",
     "output_type": "stream",
     "text": [
      "Testing R2 Score:  67.59080530736232 \n",
      "Testing mean squared:  44827179.40862877\n"
     ]
    }
   ],
   "source": [
    "scores.append({\n",
    "        'model': 'Decision Tree',\n",
    "        'r2_score': r2_score(y_test, pred_dt)*100,\n",
    "    'MS_score' : mean_squared_error(y_test,pred_dt)\n",
    "    })\n",
    "\n",
    "pred=pred_dt\n",
    "\n",
    "print('Testing R2 Score: ', r2_score(y_test, pred_dt)*100,\n",
    "      '\\nTesting mean squared: ', mean_squared_error(y_test,pred_dt))"
   ]
  },
  {
   "cell_type": "markdown",
   "id": "61a3834f",
   "metadata": {},
   "source": [
    "# DecisionTreeRegressor"
   ]
  },
  {
   "cell_type": "code",
   "execution_count": 84,
   "id": "3f902267",
   "metadata": {},
   "outputs": [],
   "source": [
    "from sklearn.tree import DecisionTreeRegressor\n",
    "\n",
    "model_dt= DecisionTreeRegressor(random_state=12)\n",
    "model_dt.fit(X_train,y_train)\n",
    "pred_dt=model_dt.predict(X_test)"
   ]
  },
  {
   "cell_type": "code",
   "execution_count": 85,
   "id": "c53b7786",
   "metadata": {},
   "outputs": [
    {
     "name": "stdout",
     "output_type": "stream",
     "text": [
      "Testing R2 Score:  65.22273300312717 \n",
      "Testing mean squared:  48102607.972692065\n"
     ]
    }
   ],
   "source": [
    "scores.append({\n",
    "        'model': 'Decision Tree',\n",
    "        'r2_score': r2_score(y_test, pred_dt)*100,\n",
    "    'MS_score' : mean_squared_error(y_test,pred_dt)\n",
    "    })\n",
    "\n",
    "pred=pred_dt\n",
    "\n",
    "print('Testing R2 Score: ', r2_score(y_test, pred_dt)*100,\n",
    "      '\\nTesting mean squared: ', mean_squared_error(y_test,pred_dt))"
   ]
  },
  {
   "cell_type": "markdown",
   "id": "94634a14",
   "metadata": {},
   "source": [
    "# RandomForestRegressor"
   ]
  },
  {
   "cell_type": "code",
   "execution_count": 86,
   "id": "945454ec",
   "metadata": {},
   "outputs": [],
   "source": [
    "from sklearn.ensemble import  RandomForestRegressor\n",
    "\n",
    "model_rf= RandomForestRegressor(n_estimators=100)\n",
    "model_rf.fit(X_train, y_train)\n",
    "pred_rf= model_rf.predict(X_test)"
   ]
  },
  {
   "cell_type": "code",
   "execution_count": 87,
   "id": "a78082e1",
   "metadata": {},
   "outputs": [
    {
     "name": "stdout",
     "output_type": "stream",
     "text": [
      "Testing R2 Score:  81.8405932693326 \n",
      "Testing mean squared:  25117408.53760894\n"
     ]
    }
   ],
   "source": [
    "scores.append({\n",
    "        'model': 'Random Forest',\n",
    "        'r2_score': r2_score(y_test, pred_rf)*100,\n",
    "    'MS_score' : mean_squared_error(y_test,pred_rf)\n",
    "    })\n",
    "\n",
    "pred=pred_rf\n",
    "\n",
    "print('Testing R2 Score: ', r2_score(y_test, pred_rf)*100,\n",
    "      '\\nTesting mean squared: ', mean_squared_error(y_test,pred_rf))"
   ]
  },
  {
   "cell_type": "markdown",
   "id": "c3636ee1",
   "metadata": {},
   "source": [
    "# XGBRFRegressor"
   ]
  },
  {
   "cell_type": "code",
   "execution_count": 91,
   "id": "4ff8dde7",
   "metadata": {
    "scrolled": true
   },
   "outputs": [
    {
     "name": "stdout",
     "output_type": "stream",
     "text": [
      "Defaulting to user installation because normal site-packages is not writeable\n",
      "Collecting xgboost\n",
      "  Downloading xgboost-1.7.3-py3-none-win_amd64.whl (89.1 MB)\n",
      "Requirement already satisfied: numpy in c:\\programdata\\anaconda3\\lib\\site-packages (from xgboost) (1.21.5)\n",
      "Requirement already satisfied: scipy in c:\\programdata\\anaconda3\\lib\\site-packages (from xgboost) (1.7.3)\n",
      "Installing collected packages: xgboost\n",
      "Successfully installed xgboost-1.7.3\n"
     ]
    }
   ],
   "source": [
    "! pip install xgboost"
   ]
  },
  {
   "cell_type": "code",
   "execution_count": 93,
   "id": "e8421655",
   "metadata": {},
   "outputs": [],
   "source": [
    "from xgboost import XGBRFRegressor\n",
    "\n",
    "model_xgb = XGBRFRegressor()\n",
    "model_xgb.fit(X_train, y_train)\n",
    "pred_xgb = model_xgb.predict(X_test)"
   ]
  },
  {
   "cell_type": "code",
   "execution_count": 94,
   "id": "3ff042a9",
   "metadata": {},
   "outputs": [
    {
     "name": "stdout",
     "output_type": "stream",
     "text": [
      "Testing R2 Score:  84.57124260663099 \n",
      "Testing mean squared:  21340477.055478197\n"
     ]
    }
   ],
   "source": [
    "scores.append({\n",
    "        'model': 'XGB regressor',\n",
    "        'r2_score': r2_score(y_test, pred_xgb)*100,\n",
    "    'MS_score' : mean_squared_error(y_test,pred_xgb)\n",
    "    })\n",
    "\n",
    "pred=pred_xgb\n",
    "\n",
    "print('Testing R2 Score: ', r2_score(y_test, pred_xgb)*100,\n",
    "      '\\nTesting mean squared: ', mean_squared_error(y_test,pred_xgb))"
   ]
  },
  {
   "cell_type": "code",
   "execution_count": null,
   "id": "fe43841f",
   "metadata": {},
   "outputs": [],
   "source": []
  }
 ],
 "metadata": {
  "kernelspec": {
   "display_name": "Python 3 (ipykernel)",
   "language": "python",
   "name": "python3"
  },
  "language_info": {
   "codemirror_mode": {
    "name": "ipython",
    "version": 3
   },
   "file_extension": ".py",
   "mimetype": "text/x-python",
   "name": "python",
   "nbconvert_exporter": "python",
   "pygments_lexer": "ipython3",
   "version": "3.9.12"
  }
 },
 "nbformat": 4,
 "nbformat_minor": 5
}
